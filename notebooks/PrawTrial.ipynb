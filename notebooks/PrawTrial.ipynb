{
 "cells": [
  {
   "cell_type": "markdown",
   "metadata": {
    "tags": []
   },
   "source": [
    "### Imports"
   ]
  },
  {
   "cell_type": "code",
   "execution_count": null,
   "metadata": {
    "ExecuteTime": {
     "end_time": "2021-06-04T14:27:15.619161Z",
     "start_time": "2021-06-04T14:27:09.507978Z"
    }
   },
   "outputs": [],
   "source": [
    "from py2neo import Graph, Node\n",
    "from tqdm.auto import tqdm\n",
    "import datetime\n",
    "import pandas as pd\n",
    "import numpy as np \n",
    "import requests\n",
    "import json\n",
    "import praw\n",
    "import psycopg2\n",
    "from psycopg2.extras import Json\n",
    "import datetime\n",
    "import time\n",
    "\n",
    "reddit_client_id = \"_nGE8QZMxX__JA\"\n",
    "reddit_client_secret = \"llH7txuFvKFHk4-LXb3XsM-wjbYNnA\"\n",
    "\n",
    "reddit = praw.Reddit(\n",
    "    client_id = reddit_client_id,\n",
    "    client_secret = reddit_client_secret,\n",
    "    redirect = \"http://localhost:8080\",\n",
    "    username = \"LookAtAllThesePeeps\",\n",
    "    password = \"Rogerthat_121091\",\n",
    "    user_agent = \"personal use script\"\n",
    ")\n",
    "\n",
    "print(reddit.user.me())"
   ]
  },
  {
   "cell_type": "markdown",
   "metadata": {
    "heading_collapsed": true,
    "tags": []
   },
   "source": [
    "### Types"
   ]
  },
  {
   "cell_type": "code",
   "execution_count": null,
   "metadata": {
    "ExecuteTime": {
     "end_time": "2021-06-04T14:27:23.708646Z",
     "start_time": "2021-06-04T14:27:23.699589Z"
    },
    "code_folding": [
     3,
     97
    ],
    "hidden": true
   },
   "outputs": [],
   "source": [
    "if \"submission_types\" in locals():\n",
    "    del submission_types\n",
    "    \n",
    "submission_types = {\n",
    " 'approved_at_utc': 'timestamp with time zone',\n",
    " 'approved_by': \"text\",\n",
    " 'archived': \"bool\",\n",
    " 'author': \"text\",\n",
    " 'author_flair_background_color': 'text',\n",
    " 'author_flair_css_class': 'text',\n",
    " 'author_flair_richtext': 'text',\n",
    " 'author_flair_template_id': 'int',\n",
    " 'author_flair_text': 'text',\n",
    " 'author_flair_text_color': 'text',\n",
    " 'author_flair_type': 'text',\n",
    " 'author_fullname': 'text',\n",
    " 'author_patreon_flair': 'text',\n",
    " 'author_premium': 'bool',\n",
    " 'banned_at_utc': 'timestamp with time zone',\n",
    " 'banned_by': 'text',\n",
    " 'can_gild': 'bool',\n",
    " 'can_mod_post': \"bool\",\n",
    " 'category': \"text\",\n",
    " 'clicked': 'bool',\n",
    " 'comment_limit': \"text\",\n",
    " 'comment_sort': \"text\",\n",
    " 'content_categories': 'text',\n",
    " 'contest_mode': 'text',\n",
    " 'created': 'integer',\n",
    " 'created_utc': 'timestamp without time zone',\n",
    " 'discussion_type': \"text\",\n",
    " 'distinguished': \"bool\",\n",
    " 'domain': \"text\",\n",
    " 'downs': \"integer\",\n",
    " 'edited': 'bool',\n",
    " 'fullname': \"text\",\n",
    " 'gilded': \"integer\",\n",
    " 'hidden': \"bool\",\n",
    " 'id': \"text\",\n",
    " 'is_crosspostable': \"bool\",\n",
    " 'is_meta': \"bool\",\n",
    " 'is_original_content': \"bool\",\n",
    " 'is_reddit_media_domain': \"bool\",\n",
    " 'is_robot_indexable': \"bool\",\n",
    " 'is_self': \"bool\",\n",
    " 'is_video': \"bool\",\n",
    " 'likes': \"integer\",\n",
    " 'link_flair_background_color': \"text\",\n",
    " 'link_flair_css_class': \"text\",\n",
    " 'link_flair_template_id': \"text\",\n",
    " 'link_flair_text': 'text',\n",
    " 'link_flair_text_color': 'text',\n",
    " 'link_flair_type': 'text',\n",
    " 'locked': \"bool\",\n",
    " 'mod_note': \"text\",\n",
    " 'mod_reason_by': \"text\",\n",
    " 'mod_reason_title': 'text',\n",
    " 'name': 'text',\n",
    " 'no_follow': \"bool\",\n",
    " 'num_comments': 'integer',\n",
    " 'num_crossposts': 'integer',\n",
    " 'num_reports': 'integer',\n",
    " 'over_18': 'bool',\n",
    " 'parent_whitelist_status': 'text',\n",
    " 'permalink': 'text',\n",
    " 'pinned': 'bool',\n",
    " 'pwls': 'integer',\n",
    " 'quarantine': 'bool',\n",
    " 'removal_reason': 'text',\n",
    " 'removed_by': 'text',\n",
    " 'removed_by_category': 'text',\n",
    " 'report_reasons': 'text',\n",
    " 'saved': 'bool',\n",
    " 'score': 'integer',\n",
    " 'selftext': 'text',\n",
    " 'selftext_html': 'text',\n",
    " 'shortlink': 'text',\n",
    " 'spoiler': 'bool',\n",
    " 'stickied': \"bool\",\n",
    " 'subreddit_id': \"text\",\n",
    " 'subreddit_name_prefixed': 'text',\n",
    " 'subreddit_subscribers': 'int',\n",
    " 'subreddit_type': 'text',\n",
    " 'suggested_sort': 'text',\n",
    " 'thumbnail': 'text',\n",
    " 'title': 'text',\n",
    " 'top_awarded_type': 'text',\n",
    " 'total_awards_received': 'integer',\n",
    " 'ups': 'integer',\n",
    " 'upvote_ratio': 'float',\n",
    " 'url': 'text',\n",
    " 'view_count': 'integer',\n",
    " 'visited': 'bool',\n",
    " 'whitelist_status': 'text',\n",
    " 'wls': \"integer\"\n",
    "}\n",
    "\n",
    "comment_types = {\n",
    " 'total_awards_received': 'int',\n",
    " 'approved_at_utc': 'int',\n",
    " 'comment_type': 'int',\n",
    " 'awarders': 'jsonb',\n",
    " 'mod_reason_by': 'text',\n",
    " 'banned_by': 'text',\n",
    " 'ups': \"int\",\n",
    " 'author_flair_type': \"text\",\n",
    " 'removal_reason': \"text\",\n",
    " 'link_id': \"text\",\n",
    " 'author_flair_template_id': \"text\",\n",
    " 'likes': \"int\",\n",
    " 'user_reports': \"jsonb\",\n",
    " 'saved': \"bool\",\n",
    " 'id': \"text\",\n",
    " 'banned_at_utc': \"int\",\n",
    " 'mod_reason_title': \"text\",\n",
    " 'gilded': \"bool\",\n",
    " 'archived': \"bool\",\n",
    " 'no_follow': \"bool\",\n",
    " 'author': \"text\",\n",
    " 'can_mod_post': \"bool\",\n",
    " 'send_replies': \"bool\",\n",
    " 'parent_id': \"text\",\n",
    " 'score': \"int\",\n",
    " 'author_fullname': \"text\",\n",
    " 'report_reasons': \"jsonb\",\n",
    " 'approved_by': \"text\",\n",
    " 'all_awardings': \"jsonb\",\n",
    " 'subreddit_id': \"text\",\n",
    " 'body': \"text\",\n",
    " 'edited': \"bool\",\n",
    " 'downs': \"int\",\n",
    " 'author_flair_css_class': \"text\",\n",
    " 'is_submitter': \"bool\",\n",
    " 'collapsed': \"bool\",\n",
    " 'author_flair_richtext': \"jsonb\",\n",
    " 'author_patreon_flair': \"text\",\n",
    " 'body_html': \"text\",\n",
    " 'gildings': \"jsonb\",\n",
    " 'collapsed_reason': \"text\",\n",
    " 'associated_award': \"text\",\n",
    " 'stickied': \"bool\",\n",
    " 'author_premium': \"bool\",\n",
    " 'subreddit_type': \"text\",\n",
    " 'can_gild': \"bool\",\n",
    " 'top_awarded_type': \"text\",\n",
    " 'author_flair_text_color': \"text\",\n",
    " 'score_hidden': \"bool\",\n",
    " 'permalink': \"text\",\n",
    " 'num_reports': \"int\",\n",
    " 'locked': \"bool\",\n",
    " 'name': \"text\",\n",
    " 'created': \"int\",\n",
    " 'author_flair_text': \"text\",\n",
    " 'treatment_tags': \"jsonb\",\n",
    " 'created_utc': \"int\",\n",
    " 'subreddit_name_prefixed': \"text\",\n",
    " 'controversiality': \"int\",\n",
    " 'depth': \"int\",\n",
    " 'author_flair_background_color': \"text\",\n",
    " 'collapsed_because_crowd_control': \"bool\",\n",
    " 'mod_reports': \"jsonb\",\n",
    " 'mod_note': \"text\",\n",
    " 'distinguished': \"bool\",\n",
    "}\n",
    "\n",
    "CREATE_WSB_COMMENTS_TABLE_QUERY = \\\n",
    "\"\"\"create table wsb_comments\n",
    "(\n",
    "    total_awards_received           int,\n",
    "    approved_at_utc                 int,\n",
    "    comment_type                    int,\n",
    "    awarders                        jsonb,\n",
    "    mod_reason_by                   text,\n",
    "    banned_by                       text,\n",
    "    ups                             int,\n",
    "    author_flair_type               text,\n",
    "    removal_reason                  text,\n",
    "    link_id                         text,\n",
    "    author_flair_template_id        text,\n",
    "    likes                           int,\n",
    "    user_reports                    jsonb,\n",
    "    saved                           bool,\n",
    "    id                              text,\n",
    "    banned_at_utc                   int,\n",
    "    mod_reason_title                text,\n",
    "    gilded                          int,\n",
    "    archived                        bool,\n",
    "    no_follow                       bool,\n",
    "    author                          text,\n",
    "    can_mod_post                    bool,\n",
    "    send_replies                    bool,\n",
    "    parent_id                       text,\n",
    "    score                           int,\n",
    "    author_fullname                 text,\n",
    "    report_reasons                  jsonb,\n",
    "    approved_by                     text,\n",
    "    all_awardings                   jsonb,\n",
    "    subreddit_id                    text,\n",
    "    body                            text,\n",
    "    edited                          int,\n",
    "    downs                           int,\n",
    "    author_flair_css_class          text,\n",
    "    is_submitter                    bool,\n",
    "    collapsed                       bool,\n",
    "    author_flair_richtext           jsonb,\n",
    "    author_patreon_flair            text,\n",
    "    body_html                       text,\n",
    "    gildings                        jsonb,\n",
    "    collapsed_reason                text,\n",
    "    associated_award                text,\n",
    "    stickied                        bool,\n",
    "    author_premium                  bool,\n",
    "    subreddit_type                  text,\n",
    "    can_gild                        bool,\n",
    "    top_awarded_type                text,\n",
    "    author_flair_text_color         text,\n",
    "    score_hidden                    bool,\n",
    "    permalink                       text,\n",
    "    num_reports                     int,\n",
    "    locked                          bool,\n",
    "    name                            text,\n",
    "    created                         int,\n",
    "    author_flair_text               text,\n",
    "    treatment_tags                  jsonb,\n",
    "    created_utc                     int,\n",
    "    subreddit_name_prefixed         text,\n",
    "    controversiality                int,\n",
    "    depth                           int,\n",
    "    author_flair_background_color   text,\n",
    "    collapsed_because_crowd_control bool,\n",
    "    mod_reports                     jsonb,\n",
    "    mod_note                        text,\n",
    "    distinguished                   text\n",
    ");\"\"\""
   ]
  },
  {
   "cell_type": "markdown",
   "metadata": {
    "tags": []
   },
   "source": [
    "### Functions "
   ]
  },
  {
   "cell_type": "code",
   "execution_count": null,
   "metadata": {
    "ExecuteTime": {
     "end_time": "2021-06-04T14:36:43.760583Z",
     "start_time": "2021-06-04T14:36:43.755644Z"
    },
    "code_folding": []
   },
   "outputs": [],
   "source": [
    "# Conn \n",
    "if \"get_conn\" in locals():\n",
    "    del get_conn\n",
    "    \n",
    "def get_conn() -> psycopg2.connect:\n",
    "    return psycopg2.connect(\n",
    "        dbname=\"polygonio\", \n",
    "        port=\"6432\", \n",
    "        host=\"localhost\", \n",
    "        password='rogerthat', \n",
    "        user=\"postgres\"\n",
    "    )\n",
    "\n",
    "if \"insert_submission\" in locals():\n",
    "    del insert_submission\n",
    "    \n",
    "def insert_submission(submission) -> None:\n",
    "    cols = ('%s,' * (len(submission.keys()))).rstrip(\",\")\n",
    "    insert_query = f\"\"\"INSERT INTO wsb_comments({','.join(submission.keys())}) VALUES %s ON CONFLICT (id) DO NOTHING;\"\"\"\n",
    "    \n",
    "    with get_conn() as conn:\n",
    "        with conn.cursor() as cur:\n",
    "            insert_query_2 = cur.mogrify(insert_query, tuple(submission.values()))\n",
    "            print(insert_query_2)\n",
    "            cur.execute(insert_query_2)"
   ]
  },
  {
   "cell_type": "markdown",
   "metadata": {},
   "source": [
    "### Grab WSB"
   ]
  },
  {
   "cell_type": "markdown",
   "metadata": {},
   "source": [
    "- Questions: \n",
    "    - What's the most mentioned ticker today? (Define what's a ticker, and groupby date)\n",
    "    - What's the sentiment on the sentences that contain the tickers\n",
    "    - Historically, which stocks have been mentioned? (What are the links to these submissions?) \n",
    "      - How much time before a stock is mentioned on WSB and then takes off ?"
   ]
  },
  {
   "cell_type": "markdown",
   "metadata": {
    "ExecuteTime": {
     "end_time": "2021-05-30T17:27:57.308256Z",
     "start_time": "2021-05-30T17:27:57.303224Z"
    },
    "code_folding": []
   },
   "source": [
    "#### Create Table statement"
   ]
  },
  {
   "cell_type": "code",
   "execution_count": null,
   "metadata": {
    "ExecuteTime": {
     "end_time": "2021-06-04T14:28:41.065234Z",
     "start_time": "2021-06-04T14:28:41.062082Z"
    },
    "code_folding": [],
    "jupyter": {
     "outputs_hidden": true
    },
    "tags": []
   },
   "outputs": [],
   "source": [
    "statement = 'create table wsb_comments ('\n",
    "\n",
    "for key, val in comment_types.items():\n",
    "    statement +=  f'\\n{key} {val},'\n",
    "    \n",
    "statement = statement[:-1] + ');'\n",
    "# create_index_statment = \"CREATE UNIQUE INDEX \"\n",
    "print(statement)"
   ]
  },
  {
   "cell_type": "markdown",
   "metadata": {
    "heading_collapsed": true
   },
   "source": [
    "#### Ideas for neo4j nodes"
   ]
  },
  {
   "cell_type": "code",
   "execution_count": null,
   "metadata": {
    "ExecuteTime": {
     "end_time": "2021-05-30T17:27:57.308256Z",
     "start_time": "2021-05-30T17:27:57.303224Z"
    },
    "code_folding": [
     15,
     37
    ],
    "hidden": true
   },
   "outputs": [],
   "source": [
    "potential_node_types = [\n",
    "    \"Submission\"\n",
    "    \"Comment\",\n",
    "    \"Account\"\n",
    "]\n",
    "\n",
    "potential_properties = [\n",
    "    \"approved_at_utc\", \n",
    "    \"approved_by\", \n",
    "    \"author\", \n",
    "    \"created_utc\", \n",
    "    \"fullname\",\n",
    "    \"id\",\n",
    "    \"likes\",\n",
    "    \"name\",\n",
    "    \"quarantine\",\n",
    "    \"subreddit_subscribers\",\n",
    "    \"url\",\n",
    "    \"view_count\",\n",
    "    \"title\",\n",
    "    \"downs\",\n",
    "    \"ups\",\n",
    "    \"likes\",\n",
    "    \"subreddit_subscribers\",\n",
    "    \"subreddit_type\",\n",
    "    \"subreddit_name_prefixed\"\n",
    "]\n",
    "\n",
    "potential_labels = [\n",
    "    \"edited\", \n",
    "    \"category\",\n",
    "    \"created\", \n",
    "    \"crosspost\", \n",
    "    \"can_mod_post\", \n",
    "    \"quarantine\", \n",
    "    \"subreddit\", \n",
    "    \"top_awarded_type\",\n",
    "    \"over_18\",\n",
    "    \"mod\",\n",
    "    \"is_original_content\",\n",
    "]\n",
    "\n",
    "potential_relationships = [\n",
    "    \"IS_CHILD\",\n",
    "]"
   ]
  },
  {
   "cell_type": "markdown",
   "metadata": {},
   "source": [
    "### Logic"
   ]
  },
  {
   "cell_type": "code",
   "execution_count": null,
   "metadata": {
    "ExecuteTime": {
     "end_time": "2021-06-04T14:37:44.259814Z",
     "start_time": "2021-06-04T14:37:43.745975Z"
    },
    "jupyter": {
     "outputs_hidden": true
    }
   },
   "outputs": [],
   "source": [
    "subreddit = reddit.subreddit(\"wallstreetbets\")\n",
    "\n",
    "june_2021_titles = {}\n",
    "for submission in subreddit.search(f\"and title:'Daily Discussion Thread for June 2021'\"):\n",
    "    june_2021_titles[submission.id] = submission.title\n",
    "    \n",
    "june_2021_titles = {k:v for k,v in june_2021_titles.items() if \"Agricultural\" not in v}\n",
    "\n",
    "june_2021_titles[\"nqi9f6\"] = \"Daily Discussion Thread for June 02, 2021\"\n",
    "june_2021_titles[\"nr9r9t\"] = \"Daily Discussion Thread for June 03, 2021\"\n",
    "june_2021_titles"
   ]
  },
  {
   "cell_type": "code",
   "execution_count": null,
   "metadata": {
    "ExecuteTime": {
     "end_time": "2021-06-04T14:37:53.023201Z",
     "start_time": "2021-06-04T14:37:47.512651Z"
    },
    "jupyter": {
     "outputs_hidden": true
    }
   },
   "outputs": [],
   "source": [
    "other_titles = {}\n",
    "for submission in subreddit.search(f\"and title:'Daily Discussion Thread'\"):\n",
    "    other_titles[submission.id] = submission.title\n",
    "    \n",
    "other_titles = {k:v for k,v in other_titles.items() if \"Agricultural\" not in v}\n",
    "other_titles"
   ]
  },
  {
   "cell_type": "code",
   "execution_count": null,
   "metadata": {
    "ExecuteTime": {
     "end_time": "2021-06-04T14:39:36.353083Z",
     "start_time": "2021-06-04T14:39:36.347623Z"
    }
   },
   "outputs": [],
   "source": [
    "if \"clean_comment\" in locals():\n",
    "    del clean_comment\n",
    "    \n",
    "def clean_comment(comment):\n",
    "    return {key: val for key, val in vars(comment).items() if key not in [\"_replies\", \"_submission\", \"_reddit\", \"subreddit\", \"author\", \"_fetched\"]}\n",
    "\n",
    "if \"traverse_comments\" in locals():\n",
    "    del traverse_comments\n",
    "    \n",
    "def traverse_comments(comment):\n",
    "    if hasattr(comment, \"comments\"):\n",
    "        for cc in tqdm(comment.comments(), leave=False):\n",
    "            traverse_comments(comment=cc)\n",
    "    else:\n",
    "        cleaned_comment = clean_comment(comment=comment)\n",
    "        for key, val in cleaned_comment.items():\n",
    "            if key in [\"awarders\", \"user_reports\", \"all_awardings\", \"report_reasons\", \"gildings\", \"author_flair_richtext\", \"treatment_tags\", \"mod_reports\"]:\n",
    "                cleaned_comment[key] = Json(json.dumps(val))\n",
    "            if isinstance(cleaned_comment[\"edited\"], bool):\n",
    "                cleaned_comment[\"edited\"] = 0\n",
    "                \n",
    "        insert_query = f\"\"\"INSERT INTO wsb_comments ({','.join(cleaned_comment.keys())}) VALUES ({ ('%s,' * len(cleaned_comment)).rstrip(',') }) ON CONFLICT (id) DO NOTHING;\"\"\"\n",
    "        with get_conn() as conn:\n",
    "            with conn.cursor() as cur:\n",
    "                try:\n",
    "                    mogrified_query = cur.mogrify(insert_query, tuple(cleaned_comment.values()))\n",
    "                    cur.execute(mogrified_query)\n",
    "                except psycopg2.errors.ProgrammingError as e:\n",
    "                    print(cleaned_comment['id'])\n",
    "                    print(e)"
   ]
  },
  {
   "cell_type": "code",
   "execution_count": null,
   "metadata": {
    "ExecuteTime": {
     "end_time": "2021-06-04T19:56:37.935979Z",
     "start_time": "2021-06-04T16:14:16.746924Z"
    },
    "jupyter": {
     "outputs_hidden": true
    },
    "tags": []
   },
   "outputs": [],
   "source": [
    "comments = []\n",
    "for sub_id, sub_title in tqdm(june_2021_titles.items()):\n",
    "#     submission = reddit.submission(id=\"nr9r9t\")\n",
    "    for comment in tqdm(submission.comments):\n",
    "        traverse_comments(comment=comment)"
   ]
  }
 ],
 "metadata": {
  "kernelspec": {
   "display_name": "asyncpython-env-3.8",
   "language": "python",
   "name": "asyncpython-ro8r6bct-py3.8"
  },
  "language_info": {
   "codemirror_mode": {
    "name": "ipython",
    "version": 3
   },
   "file_extension": ".py",
   "mimetype": "text/x-python",
   "name": "python",
   "nbconvert_exporter": "python",
   "pygments_lexer": "ipython3",
   "version": "3.8.11"
  },
  "latex_envs": {
   "LaTeX_envs_menu_present": true,
   "autoclose": true,
   "autocomplete": true,
   "bibliofile": "biblio.bib",
   "cite_by": "apalike",
   "current_citInitial": 1,
   "eqLabelWithNumbers": true,
   "eqNumInitial": 1,
   "hotkeys": {
    "equation": "Ctrl-E",
    "itemize": "Ctrl-I"
   },
   "labels_anchors": false,
   "latex_user_defs": false,
   "report_style_numbering": false,
   "user_envs_cfg": false
  },
  "toc": {
   "base_numbering": 1,
   "nav_menu": {},
   "number_sections": true,
   "sideBar": true,
   "skip_h1_title": false,
   "title_cell": "Table of Contents",
   "title_sidebar": "Contents",
   "toc_cell": false,
   "toc_position": {},
   "toc_section_display": true,
   "toc_window_display": false
  }
 },
 "nbformat": 4,
 "nbformat_minor": 4
}
