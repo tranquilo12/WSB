{
 "cells": [
  {
   "cell_type": "code",
   "execution_count": 1,
   "id": "97fae56e-89fe-4160-9a4e-faf95125a9e9",
   "metadata": {},
   "outputs": [],
   "source": [
    "import pandas as pd\n",
    "from tqdm.auto import tqdm\n",
    "from reddit_stuff import get_sqlalchemy_engine\n",
    "from reddit_stuff import get_conn\n",
    "from reddit_stuff import get_all_submission_ids_to_be_refreshed, get_all_incomplete_submissions_comment_ids\n",
    "from reddit_stuff import insert_all_comments_to_db_pmaw, update_wsb_comments_status_table\n",
    "\n",
    "import time\n",
    "import json\n",
    "import psycopg2\n",
    "from psycopg2.extras import Json, execute_values\n",
    "\n",
    "import pmaw\n",
    "pmaw_api = pmaw.PushshiftAPI()"
   ]
  },
  {
   "cell_type": "code",
   "execution_count": 2,
   "id": "177348f1-b57a-4896-a048-6aea33374336",
   "metadata": {},
   "outputs": [
    {
     "name": "stdout",
     "output_type": "stream",
     "text": [
      "CPU times: user 1.01 ms, sys: 837 µs, total: 1.85 ms\n",
      "Wall time: 1.25 ms\n"
     ]
    }
   ],
   "source": [
    "%%time\n",
    "# to_be_refreshed = get_all_submission_ids_to_be_refreshed()\n",
    "# with open(\"to_be_refreshed.txt\", \"w\") as f:\n",
    "#     f.write(\",\".join(to_be_refreshed))\n",
    "    \n",
    "with open(\"to_be_refreshed.txt\", \"r\") as f: \n",
    "    to_be_refreshed = f.read()\n",
    "\n",
    "to_be_refreshed = to_be_refreshed.split(\",\")"
   ]
  },
  {
   "cell_type": "code",
   "execution_count": 4,
   "id": "836d7dd7-6d42-4b57-908e-e310d53c451a",
   "metadata": {},
   "outputs": [
    {
     "data": {
      "application/vnd.jupyter.widget-view+json": {
       "model_id": "e6385676716c4b19969fbe2e7bde0246",
       "version_major": 2,
       "version_minor": 0
      },
      "text/plain": [
       "  0%|          | 0/9844 [00:00<?, ?it/s]"
      ]
     },
     "metadata": {},
     "output_type": "display_data"
    },
    {
     "name": "stdout",
     "output_type": "stream",
     "text": [
      "Response cache key: d2bb8ed4bc80abd05fc926f41a0bb1af\n",
      "Total:: Success Rate: 100.00% - Requests: 1 - Batches: 1 - Items Remaining: 0\n",
      "Formatting into correct format...\n"
     ]
    },
    {
     "data": {
      "application/vnd.jupyter.widget-view+json": {
       "model_id": "5b33771d6fdd40ffae30fa7db8b2a49c",
       "version_major": 2,
       "version_minor": 0
      },
      "text/plain": [
       "  0%|          | 0/106 [00:00<?, ?it/s]"
      ]
     },
     "metadata": {},
     "output_type": "display_data"
    },
    {
     "name": "stdout",
     "output_type": "stream",
     "text": [
      "-- Inserting into the db...\n",
      "-- Done.\n",
      "-- Updating wsb_comments_status table...\n",
      "-- Done.\n",
      "Response cache key: b7f664a803fb5b233f92aeec06b62995\n",
      "Total:: Success Rate: 100.00% - Requests: 3 - Batches: 1 - Items Remaining: 0\n",
      "Formatting into correct format...\n"
     ]
    },
    {
     "data": {
      "application/vnd.jupyter.widget-view+json": {
       "model_id": "87bd8178061e4934a2d31a99131545fb",
       "version_major": 2,
       "version_minor": 0
      },
      "text/plain": [
       "  0%|          | 0/2492 [00:00<?, ?it/s]"
      ]
     },
     "metadata": {},
     "output_type": "display_data"
    },
    {
     "name": "stdout",
     "output_type": "stream",
     "text": [
      "-- Inserting into the db...\n",
      "-- Done.\n",
      "-- Updating wsb_comments_status table...\n",
      "-- Done.\n",
      "Response cache key: f5ebd102aa339e1cf0536ad1301e858c\n",
      "Total:: Success Rate: 100.00% - Requests: 1 - Batches: 1 - Items Remaining: 0\n",
      "Formatting into correct format...\n"
     ]
    },
    {
     "data": {
      "application/vnd.jupyter.widget-view+json": {
       "model_id": "41b00e51bac047d8bfb5860e1c75206f",
       "version_major": 2,
       "version_minor": 0
      },
      "text/plain": [
       "  0%|          | 0/1 [00:00<?, ?it/s]"
      ]
     },
     "metadata": {},
     "output_type": "display_data"
    },
    {
     "name": "stdout",
     "output_type": "stream",
     "text": [
      "-- Inserting into the db...\n",
      "-- Done.\n",
      "-- Updating wsb_comments_status table...\n",
      "-- Done.\n",
      "Response cache key: 698fa52bb334127ee9e3fb0fa606a594\n",
      "Total:: Success Rate: 72.73% - Requests: 22 - Batches: 3 - Items Remaining: 0\n",
      "Formatting into correct format...\n"
     ]
    },
    {
     "data": {
      "application/vnd.jupyter.widget-view+json": {
       "model_id": "b5fff4880452476ca265c29e7b44e9e0",
       "version_major": 2,
       "version_minor": 0
      },
      "text/plain": [
       "  0%|          | 0/15472 [00:00<?, ?it/s]"
      ]
     },
     "metadata": {},
     "output_type": "display_data"
    },
    {
     "name": "stdout",
     "output_type": "stream",
     "text": [
      "-- Inserting into the db...\n",
      "-- Done.\n",
      "-- Updating wsb_comments_status table...\n",
      "-- Done.\n",
      "Response cache key: 5eb7aab2b8739d54b0376f2dc4224d72\n",
      "Response cache key: 12d0af68c40c6c88416c6f8afebde1ab\n",
      "Total:: Success Rate: 100.00% - Requests: 1 - Batches: 1 - Items Remaining: 0\n",
      "Formatting into correct format...\n"
     ]
    },
    {
     "data": {
      "application/vnd.jupyter.widget-view+json": {
       "model_id": "ce9a3015c4e84c238ea5b70f68314345",
       "version_major": 2,
       "version_minor": 0
      },
      "text/plain": [
       "  0%|          | 0/19 [00:00<?, ?it/s]"
      ]
     },
     "metadata": {},
     "output_type": "display_data"
    },
    {
     "name": "stdout",
     "output_type": "stream",
     "text": [
      "-- Inserting into the db...\n",
      "-- Done.\n",
      "-- Updating wsb_comments_status table...\n",
      "-- Done.\n",
      "Response cache key: 7badea4531a0c3b1c2d00a6959d1eaf7\n",
      "Total:: Success Rate: 100.00% - Requests: 1 - Batches: 1 - Items Remaining: 0\n",
      "Formatting into correct format...\n"
     ]
    },
    {
     "data": {
      "application/vnd.jupyter.widget-view+json": {
       "model_id": "9e0cb635552b49a89707fbdd60dd61e8",
       "version_major": 2,
       "version_minor": 0
      },
      "text/plain": [
       "  0%|          | 0/30 [00:00<?, ?it/s]"
      ]
     },
     "metadata": {},
     "output_type": "display_data"
    },
    {
     "name": "stdout",
     "output_type": "stream",
     "text": [
      "-- Inserting into the db...\n",
      "-- Done.\n",
      "-- Updating wsb_comments_status table...\n",
      "-- Done.\n",
      "Response cache key: 9a821f03c4f330b0e646c82bcf11e60a\n",
      "Total:: Success Rate: 89.66% - Requests: 29 - Batches: 3 - Items Remaining: 0\n",
      "Formatting into correct format...\n"
     ]
    },
    {
     "data": {
      "application/vnd.jupyter.widget-view+json": {
       "model_id": "e70ecad903744ec095659c9d259bffa4",
       "version_major": 2,
       "version_minor": 0
      },
      "text/plain": [
       "  0%|          | 0/25209 [00:00<?, ?it/s]"
      ]
     },
     "metadata": {},
     "output_type": "display_data"
    },
    {
     "name": "stdout",
     "output_type": "stream",
     "text": [
      "-- Inserting into the db...\n"
     ]
    },
    {
     "ename": "NumericValueOutOfRange",
     "evalue": "integer out of range\n",
     "output_type": "error",
     "traceback": [
      "\u001b[0;31m---------------------------------------------------------------------------\u001b[0m",
      "\u001b[0;31mNumericValueOutOfRange\u001b[0m                    Traceback (most recent call last)",
      "\u001b[0;32m<ipython-input-4-da56990bc1ad>\u001b[0m in \u001b[0;36m<module>\u001b[0;34m\u001b[0m\n\u001b[1;32m     18\u001b[0m \u001b[0;34m\u001b[0m\u001b[0m\n\u001b[1;32m     19\u001b[0m     \u001b[0;32mif\u001b[0m \u001b[0mlen\u001b[0m\u001b[0;34m(\u001b[0m\u001b[0mcomments_df\u001b[0m\u001b[0;34m)\u001b[0m \u001b[0;34m>\u001b[0m \u001b[0;36m0\u001b[0m\u001b[0;34m:\u001b[0m\u001b[0;34m\u001b[0m\u001b[0;34m\u001b[0m\u001b[0m\n\u001b[0;32m---> 20\u001b[0;31m         \u001b[0minsert_all_comments_to_db_pmaw\u001b[0m\u001b[0;34m(\u001b[0m\u001b[0mdf\u001b[0m\u001b[0;34m=\u001b[0m\u001b[0mcomments_df\u001b[0m\u001b[0;34m)\u001b[0m\u001b[0;34m\u001b[0m\u001b[0;34m\u001b[0m\u001b[0m\n\u001b[0m\u001b[1;32m     21\u001b[0m         \u001b[0mupdate_wsb_comments_status_table\u001b[0m\u001b[0;34m(\u001b[0m\u001b[0;34m)\u001b[0m\u001b[0;34m\u001b[0m\u001b[0;34m\u001b[0m\u001b[0m\n",
      "\u001b[0;32m~/Projects/numerai_submissions/reddit_stuff.py\u001b[0m in \u001b[0;36minsert_all_comments_to_db_pmaw\u001b[0;34m(df)\u001b[0m\n\u001b[1;32m    688\u001b[0m         \u001b[0;32mwith\u001b[0m \u001b[0mconn\u001b[0m\u001b[0;34m.\u001b[0m\u001b[0mcursor\u001b[0m\u001b[0;34m(\u001b[0m\u001b[0;34m)\u001b[0m \u001b[0;32mas\u001b[0m \u001b[0mcur\u001b[0m\u001b[0;34m:\u001b[0m\u001b[0;34m\u001b[0m\u001b[0;34m\u001b[0m\u001b[0m\n\u001b[1;32m    689\u001b[0m             \u001b[0;32mtry\u001b[0m\u001b[0;34m:\u001b[0m\u001b[0;34m\u001b[0m\u001b[0;34m\u001b[0m\u001b[0m\n\u001b[0;32m--> 690\u001b[0;31m                 \u001b[0mexecute_values\u001b[0m\u001b[0;34m(\u001b[0m\u001b[0mcur\u001b[0m\u001b[0;34m,\u001b[0m \u001b[0minsert_query\u001b[0m\u001b[0;34m,\u001b[0m \u001b[0mto_insert_comments\u001b[0m\u001b[0;34m)\u001b[0m\u001b[0;34m\u001b[0m\u001b[0;34m\u001b[0m\u001b[0m\n\u001b[0m\u001b[1;32m    691\u001b[0m                 \u001b[0mconn\u001b[0m\u001b[0;34m.\u001b[0m\u001b[0mcommit\u001b[0m\u001b[0;34m(\u001b[0m\u001b[0;34m)\u001b[0m\u001b[0;34m\u001b[0m\u001b[0;34m\u001b[0m\u001b[0m\n\u001b[1;32m    692\u001b[0m             \u001b[0;32mexcept\u001b[0m \u001b[0mpsycopg2\u001b[0m\u001b[0;34m.\u001b[0m\u001b[0merrors\u001b[0m\u001b[0;34m.\u001b[0m\u001b[0mProgrammingError\u001b[0m \u001b[0;32mas\u001b[0m \u001b[0me\u001b[0m\u001b[0;34m:\u001b[0m\u001b[0;34m\u001b[0m\u001b[0;34m\u001b[0m\u001b[0m\n",
      "\u001b[0;32m~/Library/Caches/pypoetry/virtualenvs/numerai-ned9d66x-py3.9/lib/python3.9/site-packages/psycopg2/extras.py\u001b[0m in \u001b[0;36mexecute_values\u001b[0;34m(cur, sql, argslist, template, page_size, fetch)\u001b[0m\n\u001b[1;32m   1290\u001b[0m             \u001b[0mparts\u001b[0m\u001b[0;34m.\u001b[0m\u001b[0mappend\u001b[0m\u001b[0;34m(\u001b[0m\u001b[0;34mb','\u001b[0m\u001b[0;34m)\u001b[0m\u001b[0;34m\u001b[0m\u001b[0;34m\u001b[0m\u001b[0m\n\u001b[1;32m   1291\u001b[0m         \u001b[0mparts\u001b[0m\u001b[0;34m[\u001b[0m\u001b[0;34m-\u001b[0m\u001b[0;36m1\u001b[0m\u001b[0;34m:\u001b[0m\u001b[0;34m]\u001b[0m \u001b[0;34m=\u001b[0m \u001b[0mpost\u001b[0m\u001b[0;34m\u001b[0m\u001b[0;34m\u001b[0m\u001b[0m\n\u001b[0;32m-> 1292\u001b[0;31m         \u001b[0mcur\u001b[0m\u001b[0;34m.\u001b[0m\u001b[0mexecute\u001b[0m\u001b[0;34m(\u001b[0m\u001b[0;34mb''\u001b[0m\u001b[0;34m.\u001b[0m\u001b[0mjoin\u001b[0m\u001b[0;34m(\u001b[0m\u001b[0mparts\u001b[0m\u001b[0;34m)\u001b[0m\u001b[0;34m)\u001b[0m\u001b[0;34m\u001b[0m\u001b[0;34m\u001b[0m\u001b[0m\n\u001b[0m\u001b[1;32m   1293\u001b[0m         \u001b[0;32mif\u001b[0m \u001b[0mfetch\u001b[0m\u001b[0;34m:\u001b[0m\u001b[0;34m\u001b[0m\u001b[0;34m\u001b[0m\u001b[0m\n\u001b[1;32m   1294\u001b[0m             \u001b[0mresult\u001b[0m\u001b[0;34m.\u001b[0m\u001b[0mextend\u001b[0m\u001b[0;34m(\u001b[0m\u001b[0mcur\u001b[0m\u001b[0;34m.\u001b[0m\u001b[0mfetchall\u001b[0m\u001b[0;34m(\u001b[0m\u001b[0;34m)\u001b[0m\u001b[0;34m)\u001b[0m\u001b[0;34m\u001b[0m\u001b[0;34m\u001b[0m\u001b[0m\n",
      "\u001b[0;31mNumericValueOutOfRange\u001b[0m: integer out of range\n"
     ]
    }
   ],
   "source": [
    "for submission_id in tqdm(to_be_refreshed):\n",
    "    comments = pmaw_api.search_submission_comment_ids(\n",
    "        ids=[submission_id], safe_exit=True, memsafe=True\n",
    "    )\n",
    "\n",
    "    submission_id_comments = {\n",
    "        \"submission_id\": submission_id,\n",
    "        \"comments\": [comment for comment in comments],\n",
    "    }\n",
    "\n",
    "    all_comments = []\n",
    "    comments_arr = pmaw_api.search_comments(ids=submission_id_comments[\"comments\"])\n",
    "    for c in comments_arr:\n",
    "        c[\"submission_id\"] = submission_id_comments[\"submission_id\"]\n",
    "        all_comments.append(c)\n",
    "\n",
    "    comments_df = pd.DataFrame(all_comments)\n",
    "    \n",
    "    if len(comments_df) > 0:\n",
    "        insert_all_comments_to_db_pmaw(df=comments_df)\n",
    "        update_wsb_comments_status_table()"
   ]
  },
  {
   "cell_type": "code",
   "execution_count": null,
   "id": "6838f1a5-6595-4f1b-828d-f0b40a97ad34",
   "metadata": {},
   "outputs": [],
   "source": []
  }
 ],
 "metadata": {
  "kernelspec": {
   "display_name": "numerai-env-3.9",
   "language": "python",
   "name": "numerai-ned9d66x-py3.9"
  },
  "language_info": {
   "codemirror_mode": {
    "name": "ipython",
    "version": 3
   },
   "file_extension": ".py",
   "mimetype": "text/x-python",
   "name": "python",
   "nbconvert_exporter": "python",
   "pygments_lexer": "ipython3",
   "version": "3.9.5"
  }
 },
 "nbformat": 4,
 "nbformat_minor": 5
}
