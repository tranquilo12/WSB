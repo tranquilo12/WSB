{
 "cells": [
  {
   "cell_type": "markdown",
   "id": "fa84ec11",
   "metadata": {
    "deletable": false,
    "editable": false,
    "run_control": {
     "frozen": true
    }
   },
   "source": [
    "### Imports"
   ]
  },
  {
   "cell_type": "code",
   "execution_count": 1,
   "id": "b6c8ca3c",
   "metadata": {
    "ExecuteTime": {
     "end_time": "2021-08-26T06:49:35.388240Z",
     "start_time": "2021-08-26T06:49:30.865200Z"
    }
   },
   "outputs": [],
   "source": [
    "import requests\n",
    "import time\n",
    "\n",
    "import os\n",
    "import sys\n",
    "\n",
    "import numpy as np\n",
    "import pandas as pd \n",
    "\n",
    "sys.path.append(\"C:\\\\Users\\\\SHIRAM\\\\Documents\\\\WSB\\\\\")\n",
    "from generate_urls import get_all_tickers\n",
    "from reddit_stuff import get_conn, get_sqlalchemy_engine, get_reddit_client_praw\n",
    "\n",
    "import plotly.express as px\n",
    "import plotly.graph_objects as go\n",
    "\n",
    "from utils import batch\n",
    "from wsb import Gather\n",
    "\n",
    "from tqdm.auto import tqdm\n",
    "tqdm.pandas()\n",
    "\n",
    "import matplotlib.pyplot as plt\n",
    "%matplotlib inline\n",
    "\n",
    "%load_ext autoreload\n",
    "%autoreload 2\n",
    "\n",
    "gather = Gather()"
   ]
  },
  {
   "cell_type": "markdown",
   "id": "c2a8a761",
   "metadata": {
    "deletable": false,
    "editable": false,
    "run_control": {
     "frozen": true
    }
   },
   "source": [
    "### Checkout local data"
   ]
  },
  {
   "cell_type": "markdown",
   "id": "01551462",
   "metadata": {
    "deletable": false,
    "editable": false,
    "run_control": {
     "frozen": true
    }
   },
   "source": [
    "#### All submissions and comments"
   ]
  },
  {
   "cell_type": "code",
   "execution_count": 2,
   "id": "fcb2451a",
   "metadata": {
    "ExecuteTime": {
     "end_time": "2021-08-26T06:49:35.547597Z",
     "start_time": "2021-08-26T06:49:35.389198Z"
    }
   },
   "outputs": [
    {
     "data": {
      "text/html": [
       "<div>\n",
       "<style scoped>\n",
       "    .dataframe tbody tr th:only-of-type {\n",
       "        vertical-align: middle;\n",
       "    }\n",
       "\n",
       "    .dataframe tbody tr th {\n",
       "        vertical-align: top;\n",
       "    }\n",
       "\n",
       "    .dataframe thead th {\n",
       "        text-align: right;\n",
       "    }\n",
       "</style>\n",
       "<table border=\"1\" class=\"dataframe\">\n",
       "  <thead>\n",
       "    <tr style=\"text-align: right;\">\n",
       "      <th></th>\n",
       "      <th>submission_id</th>\n",
       "      <th>comments</th>\n",
       "    </tr>\n",
       "  </thead>\n",
       "  <tbody>\n",
       "    <tr>\n",
       "      <th>0</th>\n",
       "      <td>o1aztu</td>\n",
       "      <td>{'data': ['h1zt5gv', 'h1ztc80', 'h1ztemi', 'h1...</td>\n",
       "    </tr>\n",
       "    <tr>\n",
       "      <th>1</th>\n",
       "      <td>o1c8nx</td>\n",
       "      <td>{'data': ['h2008md', 'h201mr6', 'h202942', 'h2...</td>\n",
       "    </tr>\n",
       "    <tr>\n",
       "      <th>2</th>\n",
       "      <td>o18l7x</td>\n",
       "      <td>{'data': ['h1zvhr6']}</td>\n",
       "    </tr>\n",
       "    <tr>\n",
       "      <th>3</th>\n",
       "      <td>o1bbx1</td>\n",
       "      <td>{'data': ['h1zunc1', 'h1zuuyv', 'h1zv22z', 'h1...</td>\n",
       "    </tr>\n",
       "    <tr>\n",
       "      <th>4</th>\n",
       "      <td>o1b6hx</td>\n",
       "      <td>{'data': ['h1ztx4f', 'h1zu2iy', 'h1zvw13', 'h1...</td>\n",
       "    </tr>\n",
       "  </tbody>\n",
       "</table>\n",
       "</div>"
      ],
      "text/plain": [
       "  submission_id                                           comments\n",
       "0        o1aztu  {'data': ['h1zt5gv', 'h1ztc80', 'h1ztemi', 'h1...\n",
       "1        o1c8nx  {'data': ['h2008md', 'h201mr6', 'h202942', 'h2...\n",
       "2        o18l7x                              {'data': ['h1zvhr6']}\n",
       "3        o1bbx1  {'data': ['h1zunc1', 'h1zuuyv', 'h1zv22z', 'h1...\n",
       "4        o1b6hx  {'data': ['h1ztx4f', 'h1zu2iy', 'h1zvw13', 'h1..."
      ]
     },
     "execution_count": 2,
     "metadata": {},
     "output_type": "execute_result"
    }
   ],
   "source": [
    "all_submisions_and_comments_df = pd.read_csv(\"../data/all_submissions_and_comments.csv\", index_col=0)\n",
    "all_submisions_and_comments_df.head()"
   ]
  },
  {
   "cell_type": "markdown",
   "id": "d518f132",
   "metadata": {
    "deletable": false,
    "editable": false,
    "heading_collapsed": true,
    "run_control": {
     "frozen": true
    }
   },
   "source": [
    "#### all_saved_responses_before_sleep_.json"
   ]
  },
  {
   "cell_type": "code",
   "execution_count": 3,
   "id": "55299bfc",
   "metadata": {
    "ExecuteTime": {
     "end_time": "2021-08-26T06:49:35.973020Z",
     "start_time": "2021-08-26T06:49:35.548564Z"
    },
    "hidden": true
   },
   "outputs": [],
   "source": [
    "all_saved_responses_before_sleep_df = pd.read_json(\"../data/all_saved_responses_before_sleep.json\")"
   ]
  },
  {
   "cell_type": "code",
   "execution_count": 4,
   "id": "753895e8",
   "metadata": {
    "ExecuteTime": {
     "end_time": "2021-08-26T06:49:36.210048Z",
     "start_time": "2021-08-26T06:49:35.974021Z"
    },
    "hidden": true
   },
   "outputs": [
    {
     "data": {
      "text/html": [
       "<div>\n",
       "<style scoped>\n",
       "    .dataframe tbody tr th:only-of-type {\n",
       "        vertical-align: middle;\n",
       "    }\n",
       "\n",
       "    .dataframe tbody tr th {\n",
       "        vertical-align: top;\n",
       "    }\n",
       "\n",
       "    .dataframe thead th {\n",
       "        text-align: right;\n",
       "    }\n",
       "</style>\n",
       "<table border=\"1\" class=\"dataframe\">\n",
       "  <thead>\n",
       "    <tr style=\"text-align: right;\">\n",
       "      <th></th>\n",
       "      <th>data</th>\n",
       "    </tr>\n",
       "  </thead>\n",
       "  <tbody>\n",
       "    <tr>\n",
       "      <th>0</th>\n",
       "      <td>[{'author': 'axon3010', 'author_created_utc': ...</td>\n",
       "    </tr>\n",
       "    <tr>\n",
       "      <th>1</th>\n",
       "      <td>[{'author': '[deleted]', 'author_flair_css_cla...</td>\n",
       "    </tr>\n",
       "    <tr>\n",
       "      <th>2</th>\n",
       "      <td>[{'author': 'poopy_donghoel', 'author_created_...</td>\n",
       "    </tr>\n",
       "    <tr>\n",
       "      <th>3</th>\n",
       "      <td>[{'author': 'Fiat_Tractor', 'author_created_ut...</td>\n",
       "    </tr>\n",
       "    <tr>\n",
       "      <th>4</th>\n",
       "      <td>[{'author': 'periklis1', 'author_created_utc':...</td>\n",
       "    </tr>\n",
       "    <tr>\n",
       "      <th>...</th>\n",
       "      <td>...</td>\n",
       "    </tr>\n",
       "    <tr>\n",
       "      <th>495</th>\n",
       "      <td>[{'all_awardings': [], 'allow_live_comments': ...</td>\n",
       "    </tr>\n",
       "    <tr>\n",
       "      <th>496</th>\n",
       "      <td>[]</td>\n",
       "    </tr>\n",
       "    <tr>\n",
       "      <th>497</th>\n",
       "      <td>[]</td>\n",
       "    </tr>\n",
       "    <tr>\n",
       "      <th>498</th>\n",
       "      <td>[]</td>\n",
       "    </tr>\n",
       "    <tr>\n",
       "      <th>499</th>\n",
       "      <td>[]</td>\n",
       "    </tr>\n",
       "  </tbody>\n",
       "</table>\n",
       "<p>500 rows × 1 columns</p>\n",
       "</div>"
      ],
      "text/plain": [
       "                                                  data\n",
       "0    [{'author': 'axon3010', 'author_created_utc': ...\n",
       "1    [{'author': '[deleted]', 'author_flair_css_cla...\n",
       "2    [{'author': 'poopy_donghoel', 'author_created_...\n",
       "3    [{'author': 'Fiat_Tractor', 'author_created_ut...\n",
       "4    [{'author': 'periklis1', 'author_created_utc':...\n",
       "..                                                 ...\n",
       "495  [{'all_awardings': [], 'allow_live_comments': ...\n",
       "496                                                 []\n",
       "497                                                 []\n",
       "498                                                 []\n",
       "499                                                 []\n",
       "\n",
       "[500 rows x 1 columns]"
      ]
     },
     "execution_count": 4,
     "metadata": {},
     "output_type": "execute_result"
    }
   ],
   "source": [
    "all_saved_responses_before_sleep_df"
   ]
  },
  {
   "cell_type": "markdown",
   "id": "89f89cd6",
   "metadata": {
    "deletable": false,
    "editable": false,
    "heading_collapsed": true,
    "run_control": {
     "frozen": true
    }
   },
   "source": [
    "#### all_saved_responses_before_sleep_from_2020.json"
   ]
  },
  {
   "cell_type": "code",
   "execution_count": 5,
   "id": "4e467dc5",
   "metadata": {
    "ExecuteTime": {
     "end_time": "2021-08-26T06:49:36.336018Z",
     "start_time": "2021-08-26T06:49:36.211019Z"
    },
    "hidden": true
   },
   "outputs": [],
   "source": [
    "all_saved_responses_before_sleep_from_2020_df = pd.read_json(\"../data/all_saved_responses_before_sleep_from_2020.json\")"
   ]
  },
  {
   "cell_type": "code",
   "execution_count": 6,
   "id": "9e58b07a",
   "metadata": {
    "ExecuteTime": {
     "end_time": "2021-08-26T06:49:36.447022Z",
     "start_time": "2021-08-26T06:49:36.337020Z"
    },
    "hidden": true
   },
   "outputs": [
    {
     "data": {
      "text/html": [
       "<div>\n",
       "<style scoped>\n",
       "    .dataframe tbody tr th:only-of-type {\n",
       "        vertical-align: middle;\n",
       "    }\n",
       "\n",
       "    .dataframe tbody tr th {\n",
       "        vertical-align: top;\n",
       "    }\n",
       "\n",
       "    .dataframe thead th {\n",
       "        text-align: right;\n",
       "    }\n",
       "</style>\n",
       "<table border=\"1\" class=\"dataframe\">\n",
       "  <thead>\n",
       "    <tr style=\"text-align: right;\">\n",
       "      <th></th>\n",
       "      <th>all_awardings</th>\n",
       "      <th>allow_live_comments</th>\n",
       "      <th>author</th>\n",
       "      <th>author_flair_css_class</th>\n",
       "      <th>author_flair_richtext</th>\n",
       "      <th>author_flair_text</th>\n",
       "      <th>author_flair_type</th>\n",
       "      <th>author_fullname</th>\n",
       "      <th>author_patreon_flair</th>\n",
       "      <th>author_premium</th>\n",
       "      <th>...</th>\n",
       "      <th>author_flair_text_color</th>\n",
       "      <th>media</th>\n",
       "      <th>media_embed</th>\n",
       "      <th>secure_media</th>\n",
       "      <th>secure_media_embed</th>\n",
       "      <th>gallery_data</th>\n",
       "      <th>is_gallery</th>\n",
       "      <th>media_metadata</th>\n",
       "      <th>banned_by</th>\n",
       "      <th>edited</th>\n",
       "    </tr>\n",
       "  </thead>\n",
       "  <tbody>\n",
       "    <tr>\n",
       "      <th>0</th>\n",
       "      <td>[]</td>\n",
       "      <td>False</td>\n",
       "      <td>inever_lol</td>\n",
       "      <td>NaN</td>\n",
       "      <td>[]</td>\n",
       "      <td>None</td>\n",
       "      <td>text</td>\n",
       "      <td>t2_lle7o</td>\n",
       "      <td>0.0</td>\n",
       "      <td>0.0</td>\n",
       "      <td>...</td>\n",
       "      <td>NaN</td>\n",
       "      <td>NaN</td>\n",
       "      <td>NaN</td>\n",
       "      <td>NaN</td>\n",
       "      <td>NaN</td>\n",
       "      <td>NaN</td>\n",
       "      <td>NaN</td>\n",
       "      <td>NaN</td>\n",
       "      <td>NaN</td>\n",
       "      <td>NaN</td>\n",
       "    </tr>\n",
       "    <tr>\n",
       "      <th>1</th>\n",
       "      <td>[]</td>\n",
       "      <td>False</td>\n",
       "      <td>Winter-Click9229</td>\n",
       "      <td>NaN</td>\n",
       "      <td>[]</td>\n",
       "      <td>None</td>\n",
       "      <td>text</td>\n",
       "      <td>t2_9hut4nyq</td>\n",
       "      <td>0.0</td>\n",
       "      <td>0.0</td>\n",
       "      <td>...</td>\n",
       "      <td>NaN</td>\n",
       "      <td>NaN</td>\n",
       "      <td>NaN</td>\n",
       "      <td>NaN</td>\n",
       "      <td>NaN</td>\n",
       "      <td>NaN</td>\n",
       "      <td>NaN</td>\n",
       "      <td>NaN</td>\n",
       "      <td>NaN</td>\n",
       "      <td>NaN</td>\n",
       "    </tr>\n",
       "    <tr>\n",
       "      <th>2</th>\n",
       "      <td>[]</td>\n",
       "      <td>False</td>\n",
       "      <td>Jswimmin</td>\n",
       "      <td>NaN</td>\n",
       "      <td>[]</td>\n",
       "      <td>None</td>\n",
       "      <td>text</td>\n",
       "      <td>t2_3xni2z21</td>\n",
       "      <td>0.0</td>\n",
       "      <td>0.0</td>\n",
       "      <td>...</td>\n",
       "      <td>NaN</td>\n",
       "      <td>NaN</td>\n",
       "      <td>NaN</td>\n",
       "      <td>NaN</td>\n",
       "      <td>NaN</td>\n",
       "      <td>NaN</td>\n",
       "      <td>NaN</td>\n",
       "      <td>NaN</td>\n",
       "      <td>NaN</td>\n",
       "      <td>NaN</td>\n",
       "    </tr>\n",
       "    <tr>\n",
       "      <th>3</th>\n",
       "      <td>[]</td>\n",
       "      <td>False</td>\n",
       "      <td>Sir-Rupert-Everton</td>\n",
       "      <td>NaN</td>\n",
       "      <td>[]</td>\n",
       "      <td>None</td>\n",
       "      <td>text</td>\n",
       "      <td>t2_77sl0ldk</td>\n",
       "      <td>0.0</td>\n",
       "      <td>0.0</td>\n",
       "      <td>...</td>\n",
       "      <td>NaN</td>\n",
       "      <td>NaN</td>\n",
       "      <td>NaN</td>\n",
       "      <td>NaN</td>\n",
       "      <td>NaN</td>\n",
       "      <td>NaN</td>\n",
       "      <td>NaN</td>\n",
       "      <td>NaN</td>\n",
       "      <td>NaN</td>\n",
       "      <td>NaN</td>\n",
       "    </tr>\n",
       "    <tr>\n",
       "      <th>4</th>\n",
       "      <td>[]</td>\n",
       "      <td>False</td>\n",
       "      <td>Your_submissive_doll</td>\n",
       "      <td>NaN</td>\n",
       "      <td>[]</td>\n",
       "      <td>None</td>\n",
       "      <td>text</td>\n",
       "      <td>t2_74i1t1b0</td>\n",
       "      <td>0.0</td>\n",
       "      <td>1.0</td>\n",
       "      <td>...</td>\n",
       "      <td>NaN</td>\n",
       "      <td>NaN</td>\n",
       "      <td>NaN</td>\n",
       "      <td>NaN</td>\n",
       "      <td>NaN</td>\n",
       "      <td>NaN</td>\n",
       "      <td>NaN</td>\n",
       "      <td>NaN</td>\n",
       "      <td>NaN</td>\n",
       "      <td>NaN</td>\n",
       "    </tr>\n",
       "    <tr>\n",
       "      <th>...</th>\n",
       "      <td>...</td>\n",
       "      <td>...</td>\n",
       "      <td>...</td>\n",
       "      <td>...</td>\n",
       "      <td>...</td>\n",
       "      <td>...</td>\n",
       "      <td>...</td>\n",
       "      <td>...</td>\n",
       "      <td>...</td>\n",
       "      <td>...</td>\n",
       "      <td>...</td>\n",
       "      <td>...</td>\n",
       "      <td>...</td>\n",
       "      <td>...</td>\n",
       "      <td>...</td>\n",
       "      <td>...</td>\n",
       "      <td>...</td>\n",
       "      <td>...</td>\n",
       "      <td>...</td>\n",
       "      <td>...</td>\n",
       "      <td>...</td>\n",
       "    </tr>\n",
       "    <tr>\n",
       "      <th>195</th>\n",
       "      <td>[]</td>\n",
       "      <td>False</td>\n",
       "      <td>Sudden-Wallaby424</td>\n",
       "      <td>NaN</td>\n",
       "      <td>[]</td>\n",
       "      <td>None</td>\n",
       "      <td>text</td>\n",
       "      <td>t2_9cfiasro</td>\n",
       "      <td>0.0</td>\n",
       "      <td>0.0</td>\n",
       "      <td>...</td>\n",
       "      <td>NaN</td>\n",
       "      <td>NaN</td>\n",
       "      <td>NaN</td>\n",
       "      <td>NaN</td>\n",
       "      <td>NaN</td>\n",
       "      <td>NaN</td>\n",
       "      <td>NaN</td>\n",
       "      <td>NaN</td>\n",
       "      <td>NaN</td>\n",
       "      <td>NaN</td>\n",
       "    </tr>\n",
       "    <tr>\n",
       "      <th>196</th>\n",
       "      <td>[]</td>\n",
       "      <td>False</td>\n",
       "      <td>Rizmo26</td>\n",
       "      <td>NaN</td>\n",
       "      <td>[]</td>\n",
       "      <td>None</td>\n",
       "      <td>text</td>\n",
       "      <td>t2_682jx77k</td>\n",
       "      <td>0.0</td>\n",
       "      <td>0.0</td>\n",
       "      <td>...</td>\n",
       "      <td>NaN</td>\n",
       "      <td>NaN</td>\n",
       "      <td>NaN</td>\n",
       "      <td>NaN</td>\n",
       "      <td>NaN</td>\n",
       "      <td>NaN</td>\n",
       "      <td>NaN</td>\n",
       "      <td>NaN</td>\n",
       "      <td>NaN</td>\n",
       "      <td>NaN</td>\n",
       "    </tr>\n",
       "    <tr>\n",
       "      <th>197</th>\n",
       "      <td>[]</td>\n",
       "      <td>False</td>\n",
       "      <td>am03ligu</td>\n",
       "      <td>NaN</td>\n",
       "      <td>[]</td>\n",
       "      <td>None</td>\n",
       "      <td>text</td>\n",
       "      <td>t2_4n5gsiw6</td>\n",
       "      <td>0.0</td>\n",
       "      <td>0.0</td>\n",
       "      <td>...</td>\n",
       "      <td>NaN</td>\n",
       "      <td>NaN</td>\n",
       "      <td>NaN</td>\n",
       "      <td>NaN</td>\n",
       "      <td>NaN</td>\n",
       "      <td>NaN</td>\n",
       "      <td>NaN</td>\n",
       "      <td>NaN</td>\n",
       "      <td>NaN</td>\n",
       "      <td>NaN</td>\n",
       "    </tr>\n",
       "    <tr>\n",
       "      <th>198</th>\n",
       "      <td>[]</td>\n",
       "      <td>False</td>\n",
       "      <td>Rockyturki</td>\n",
       "      <td>NaN</td>\n",
       "      <td>[]</td>\n",
       "      <td>None</td>\n",
       "      <td>text</td>\n",
       "      <td>t2_a20yf17s</td>\n",
       "      <td>0.0</td>\n",
       "      <td>0.0</td>\n",
       "      <td>...</td>\n",
       "      <td>NaN</td>\n",
       "      <td>NaN</td>\n",
       "      <td>NaN</td>\n",
       "      <td>NaN</td>\n",
       "      <td>NaN</td>\n",
       "      <td>NaN</td>\n",
       "      <td>NaN</td>\n",
       "      <td>NaN</td>\n",
       "      <td>NaN</td>\n",
       "      <td>NaN</td>\n",
       "    </tr>\n",
       "    <tr>\n",
       "      <th>199</th>\n",
       "      <td>[]</td>\n",
       "      <td>False</td>\n",
       "      <td>rice123123</td>\n",
       "      <td>NaN</td>\n",
       "      <td>[]</td>\n",
       "      <td>None</td>\n",
       "      <td>text</td>\n",
       "      <td>t2_4bu9ypeb</td>\n",
       "      <td>0.0</td>\n",
       "      <td>0.0</td>\n",
       "      <td>...</td>\n",
       "      <td>NaN</td>\n",
       "      <td>NaN</td>\n",
       "      <td>NaN</td>\n",
       "      <td>NaN</td>\n",
       "      <td>NaN</td>\n",
       "      <td>NaN</td>\n",
       "      <td>NaN</td>\n",
       "      <td>NaN</td>\n",
       "      <td>NaN</td>\n",
       "      <td>NaN</td>\n",
       "    </tr>\n",
       "  </tbody>\n",
       "</table>\n",
       "<p>200 rows × 78 columns</p>\n",
       "</div>"
      ],
      "text/plain": [
       "    all_awardings  allow_live_comments                author  \\\n",
       "0              []                False            inever_lol   \n",
       "1              []                False      Winter-Click9229   \n",
       "2              []                False              Jswimmin   \n",
       "3              []                False    Sir-Rupert-Everton   \n",
       "4              []                False  Your_submissive_doll   \n",
       "..            ...                  ...                   ...   \n",
       "195            []                False     Sudden-Wallaby424   \n",
       "196            []                False               Rizmo26   \n",
       "197            []                False              am03ligu   \n",
       "198            []                False            Rockyturki   \n",
       "199            []                False            rice123123   \n",
       "\n",
       "     author_flair_css_class author_flair_richtext author_flair_text  \\\n",
       "0                       NaN                    []              None   \n",
       "1                       NaN                    []              None   \n",
       "2                       NaN                    []              None   \n",
       "3                       NaN                    []              None   \n",
       "4                       NaN                    []              None   \n",
       "..                      ...                   ...               ...   \n",
       "195                     NaN                    []              None   \n",
       "196                     NaN                    []              None   \n",
       "197                     NaN                    []              None   \n",
       "198                     NaN                    []              None   \n",
       "199                     NaN                    []              None   \n",
       "\n",
       "    author_flair_type author_fullname  author_patreon_flair  author_premium  \\\n",
       "0                text        t2_lle7o                   0.0             0.0   \n",
       "1                text     t2_9hut4nyq                   0.0             0.0   \n",
       "2                text     t2_3xni2z21                   0.0             0.0   \n",
       "3                text     t2_77sl0ldk                   0.0             0.0   \n",
       "4                text     t2_74i1t1b0                   0.0             1.0   \n",
       "..                ...             ...                   ...             ...   \n",
       "195              text     t2_9cfiasro                   0.0             0.0   \n",
       "196              text     t2_682jx77k                   0.0             0.0   \n",
       "197              text     t2_4n5gsiw6                   0.0             0.0   \n",
       "198              text     t2_a20yf17s                   0.0             0.0   \n",
       "199              text     t2_4bu9ypeb                   0.0             0.0   \n",
       "\n",
       "     ... author_flair_text_color  media  media_embed  secure_media  \\\n",
       "0    ...                     NaN    NaN          NaN           NaN   \n",
       "1    ...                     NaN    NaN          NaN           NaN   \n",
       "2    ...                     NaN    NaN          NaN           NaN   \n",
       "3    ...                     NaN    NaN          NaN           NaN   \n",
       "4    ...                     NaN    NaN          NaN           NaN   \n",
       "..   ...                     ...    ...          ...           ...   \n",
       "195  ...                     NaN    NaN          NaN           NaN   \n",
       "196  ...                     NaN    NaN          NaN           NaN   \n",
       "197  ...                     NaN    NaN          NaN           NaN   \n",
       "198  ...                     NaN    NaN          NaN           NaN   \n",
       "199  ...                     NaN    NaN          NaN           NaN   \n",
       "\n",
       "    secure_media_embed gallery_data is_gallery media_metadata  banned_by  \\\n",
       "0                  NaN          NaN        NaN            NaN        NaN   \n",
       "1                  NaN          NaN        NaN            NaN        NaN   \n",
       "2                  NaN          NaN        NaN            NaN        NaN   \n",
       "3                  NaN          NaN        NaN            NaN        NaN   \n",
       "4                  NaN          NaN        NaN            NaN        NaN   \n",
       "..                 ...          ...        ...            ...        ...   \n",
       "195                NaN          NaN        NaN            NaN        NaN   \n",
       "196                NaN          NaN        NaN            NaN        NaN   \n",
       "197                NaN          NaN        NaN            NaN        NaN   \n",
       "198                NaN          NaN        NaN            NaN        NaN   \n",
       "199                NaN          NaN        NaN            NaN        NaN   \n",
       "\n",
       "     edited  \n",
       "0       NaN  \n",
       "1       NaN  \n",
       "2       NaN  \n",
       "3       NaN  \n",
       "4       NaN  \n",
       "..      ...  \n",
       "195     NaN  \n",
       "196     NaN  \n",
       "197     NaN  \n",
       "198     NaN  \n",
       "199     NaN  \n",
       "\n",
       "[200 rows x 78 columns]"
      ]
     },
     "execution_count": 6,
     "metadata": {},
     "output_type": "execute_result"
    }
   ],
   "source": [
    "all_saved_responses_before_sleep_from_2020_df"
   ]
  },
  {
   "cell_type": "markdown",
   "id": "be137c5e",
   "metadata": {
    "deletable": false,
    "editable": false,
    "heading_collapsed": true,
    "run_control": {
     "frozen": true
    }
   },
   "source": [
    "#### Combine all_saved_responses_before_sleep_from_2020, all_responses_before_sleep, and all_submissions_and_comments"
   ]
  },
  {
   "cell_type": "code",
   "execution_count": 7,
   "id": "7ddd85e0",
   "metadata": {
    "ExecuteTime": {
     "end_time": "2021-08-26T06:49:36.622056Z",
     "start_time": "2021-08-26T06:49:36.448020Z"
    },
    "hidden": true
   },
   "outputs": [],
   "source": [
    "all_saved_responses_before_sleep_data = []\n",
    "for i in range(len(all_saved_responses_before_sleep_df)):\n",
    "    data = all_saved_responses_before_sleep_df.loc[0, \"data\"]\n",
    "    all_saved_responses_before_sleep_data += data\n",
    "\n",
    "df1 = pd.DataFrame.from_records(all_saved_responses_before_sleep_data)\n",
    "\n",
    "columns_needed = [c for c in all_saved_responses_before_sleep_from_2020_df.columns if c in df1.columns]\n",
    "columns_needed = [c for c in columns_needed if c not in [\"preview\", \"secure_media_embed\", \"media\", \"secure_media\", \"media_embed\"]]\n",
    "\n",
    "df2 = all_saved_responses_before_sleep_from_2020_df[columns_needed]\n",
    "df1 = df1[columns_needed]\n",
    "\n",
    "all_submissions_combined = pd.concat([df1, df2])\n",
    "all_submissions_combined = all_submissions_combined.drop_duplicates()"
   ]
  },
  {
   "cell_type": "markdown",
   "id": "978998ac",
   "metadata": {
    "deletable": false,
    "editable": false,
    "run_control": {
     "frozen": true
    }
   },
   "source": [
    "#### all_saved_responses_before_sleep_only_stickied.json"
   ]
  },
  {
   "cell_type": "code",
   "execution_count": 8,
   "id": "ba0f82a9",
   "metadata": {
    "ExecuteTime": {
     "end_time": "2021-08-26T06:49:36.717049Z",
     "start_time": "2021-08-26T06:49:36.624020Z"
    }
   },
   "outputs": [],
   "source": [
    "def read_and_process_only_stickied_subs():\n",
    "    df = pd.read_json(\"../data/all_saved_responses_before_sleep_only_stickied.json\")\n",
    "    required_cols = [\"created_utc\", \"id\", \"author\", \"author_id\", \"url\", \"title\", \"selftext\", \"stickied\"]\n",
    "    df = df[required_cols]\n",
    "\n",
    "    reformat_cols = [\"date\", \"id\", \"author\", \"url\", \"title\", \"selftext\", \"stickied\"]\n",
    "    df[\"date\"] = pd.to_datetime(df[\"created_utc\"], unit=\"s\")\n",
    "    df = df[reformat_cols]\n",
    "\n",
    "    dates_present = df[\"date\"].dt.date.unique().tolist()\n",
    "    start_date, end_date = dates_present[0], dates_present[-1]\n",
    "    all_dates = pd.date_range(start_date, end_date, freq=\"b\").tolist()\n",
    "    dates_absent = list(set(all_dates) - set(dates_present))\n",
    "    return df, dates_absent"
   ]
  },
  {
   "cell_type": "markdown",
   "id": "ce938391",
   "metadata": {
    "deletable": false,
    "editable": false,
    "run_control": {
     "frozen": true
    }
   },
   "source": [
    "### Backfill data"
   ]
  },
  {
   "cell_type": "code",
   "execution_count": 9,
   "id": "e6aeada9",
   "metadata": {
    "ExecuteTime": {
     "end_time": "2021-08-26T06:49:36.813020Z",
     "start_time": "2021-08-26T06:49:36.719020Z"
    }
   },
   "outputs": [],
   "source": [
    "def get_backfill_data(dates_absent) -> list:\n",
    "    base_url = \"https://api.pushshift.io/reddit/search/submission/?\"\n",
    "    before_after_dates = [(int((x - pd.Timedelta(days=1)).timestamp()), int((x + pd.Timedelta(days=1)).timestamp())) for x in dates_absent]\n",
    "\n",
    "    # for all dates absent, find out if there are more stickied submissions, and merge them back into stickied_df at the end\n",
    "    all_params = [{\n",
    "            \"subreddit\": \"wallstreetbets\", \n",
    "            \"stickied\": \"true\", \n",
    "            \"fields\": \"created_utc, id, author, url, title, selftext, stickied\",\n",
    "            \"before\": x[0],\n",
    "            \"after\": x[1]\n",
    "    } for x in before_after_dates]\n",
    "\n",
    "    all_backfilled_data = []\n",
    "    for param in tqdm(all_params): \n",
    "        response = requests.get(base_url, params=param)\n",
    "\n",
    "        if response.status_code == 200: \n",
    "            data = response.json()\n",
    "            if \"data\" in data.keys():\n",
    "                all_backfilled_data.append(data[\"data\"])\n",
    "\n",
    "        time.sleep(1)\n",
    "\n",
    "    return all_backfilled_data"
   ]
  },
  {
   "cell_type": "code",
   "execution_count": 11,
   "id": "8f5c048b",
   "metadata": {
    "ExecuteTime": {
     "end_time": "2021-08-26T06:49:40.546492Z",
     "start_time": "2021-08-26T06:49:40.013493Z"
    }
   },
   "outputs": [],
   "source": [
    "stickied_df, dates_absent = read_and_process_only_stickied_subs()\n",
    "# backfill_data = get_backfill_data(dates_absent)"
   ]
  },
  {
   "cell_type": "code",
   "execution_count": null,
   "id": "1de3d9f7",
   "metadata": {
    "ExecuteTime": {
     "end_time": "2021-08-26T06:49:37.590019Z",
     "start_time": "2021-08-26T06:49:31.143Z"
    }
   },
   "outputs": [],
   "source": [
    "## If there's no data to be found, then just use stickied_df as base truth"
   ]
  },
  {
   "cell_type": "code",
   "execution_count": 13,
   "id": "328668c4",
   "metadata": {
    "ExecuteTime": {
     "end_time": "2021-08-26T06:49:47.578779Z",
     "start_time": "2021-08-26T06:49:47.477781Z"
    }
   },
   "outputs": [
    {
     "data": {
      "text/html": [
       "<div>\n",
       "<style scoped>\n",
       "    .dataframe tbody tr th:only-of-type {\n",
       "        vertical-align: middle;\n",
       "    }\n",
       "\n",
       "    .dataframe tbody tr th {\n",
       "        vertical-align: top;\n",
       "    }\n",
       "\n",
       "    .dataframe thead th {\n",
       "        text-align: right;\n",
       "    }\n",
       "</style>\n",
       "<table border=\"1\" class=\"dataframe\">\n",
       "  <thead>\n",
       "    <tr style=\"text-align: right;\">\n",
       "      <th></th>\n",
       "      <th>date</th>\n",
       "      <th>id</th>\n",
       "      <th>author</th>\n",
       "      <th>url</th>\n",
       "      <th>title</th>\n",
       "      <th>selftext</th>\n",
       "      <th>stickied</th>\n",
       "    </tr>\n",
       "  </thead>\n",
       "  <tbody>\n",
       "    <tr>\n",
       "      <th>0</th>\n",
       "      <td>2017-08-26 10:46:14</td>\n",
       "      <td>6w4wra</td>\n",
       "      <td>WallStreetBot</td>\n",
       "      <td>https://www.reddit.com/r/wallstreetbets/commen...</td>\n",
       "      <td>New WSB Merch NOW Available</td>\n",
       "      <td>To commemorate current events.  \\n\\n   Mayweat...</td>\n",
       "      <td>True</td>\n",
       "    </tr>\n",
       "    <tr>\n",
       "      <th>1</th>\n",
       "      <td>2017-08-27 05:06:32</td>\n",
       "      <td>6waga2</td>\n",
       "      <td>bawse1</td>\n",
       "      <td>http://i.imgur.com/9njpbaw.png</td>\n",
       "      <td>/u/SUNEQ</td>\n",
       "      <td></td>\n",
       "      <td>True</td>\n",
       "    </tr>\n",
       "    <tr>\n",
       "      <th>2</th>\n",
       "      <td>2017-09-14 12:30:12</td>\n",
       "      <td>701we2</td>\n",
       "      <td>SIThereAndThere</td>\n",
       "      <td>https://www.reddit.com/r/wallstreetbets/commen...</td>\n",
       "      <td>J.P. Morgan Early Look at the Market – Thurs 9...</td>\n",
       "      <td>J.P. Morgan Early Look at the Market – Thurs 9...</td>\n",
       "      <td>True</td>\n",
       "    </tr>\n",
       "    <tr>\n",
       "      <th>3</th>\n",
       "      <td>2017-09-20 03:53:30</td>\n",
       "      <td>718jpp</td>\n",
       "      <td>jartek</td>\n",
       "      <td>https://www.reddit.com/r/wallstreetbets/commen...</td>\n",
       "      <td>Alright WSB, Mexico needs your help.</td>\n",
       "      <td>The Greater Mexico City Metropolitan Area was ...</td>\n",
       "      <td>True</td>\n",
       "    </tr>\n",
       "    <tr>\n",
       "      <th>4</th>\n",
       "      <td>2017-09-23 18:12:47</td>\n",
       "      <td>71zw49</td>\n",
       "      <td>SIThereAndThere</td>\n",
       "      <td>https://www.reddit.com/r/wallstreetbets/commen...</td>\n",
       "      <td>Goldman Sachs Dump: **PLEASE INVERSE THESE DOC...</td>\n",
       "      <td>Some shit from GS might be helpful to a few pe...</td>\n",
       "      <td>True</td>\n",
       "    </tr>\n",
       "    <tr>\n",
       "      <th>...</th>\n",
       "      <td>...</td>\n",
       "      <td>...</td>\n",
       "      <td>...</td>\n",
       "      <td>...</td>\n",
       "      <td>...</td>\n",
       "      <td>...</td>\n",
       "      <td>...</td>\n",
       "    </tr>\n",
       "    <tr>\n",
       "      <th>7074</th>\n",
       "      <td>2021-06-28 20:00:15</td>\n",
       "      <td>o9s4kb</td>\n",
       "      <td>OPINION_IS_UNPOPULAR</td>\n",
       "      <td>https://www.reddit.com/r/wallstreetbets/commen...</td>\n",
       "      <td>What Are Your Moves Tomorrow, June 29, 2021</td>\n",
       "      <td>Your daily trading discussion thread. Please k...</td>\n",
       "      <td>True</td>\n",
       "    </tr>\n",
       "    <tr>\n",
       "      <th>7075</th>\n",
       "      <td>2021-06-29 10:00:14</td>\n",
       "      <td>oa56ol</td>\n",
       "      <td>OPINION_IS_UNPOPULAR</td>\n",
       "      <td>https://www.reddit.com/r/wallstreetbets/commen...</td>\n",
       "      <td>Daily Discussion Thread for June 29, 2021</td>\n",
       "      <td>Your daily trading discussion thread. Please k...</td>\n",
       "      <td>True</td>\n",
       "    </tr>\n",
       "    <tr>\n",
       "      <th>7076</th>\n",
       "      <td>2021-06-29 10:00:49</td>\n",
       "      <td>oa570r</td>\n",
       "      <td>VisualMod</td>\n",
       "      <td>https://www.reddit.com/r/wallstreetbets/commen...</td>\n",
       "      <td>Daily Popular Tickers Thread for June 29, 2021...</td>\n",
       "      <td>\\nYour daily hype thread. Please keep the shit...</td>\n",
       "      <td>True</td>\n",
       "    </tr>\n",
       "    <tr>\n",
       "      <th>7077</th>\n",
       "      <td>2021-06-29 12:02:49</td>\n",
       "      <td>oa6vbq</td>\n",
       "      <td>VisualMod</td>\n",
       "      <td>https://www.reddit.com/r/wallstreetbets/commen...</td>\n",
       "      <td>Daily Popular Tickers Thread for June 29, 2021...</td>\n",
       "      <td>\\nYour daily hype thread. Please keep the shit...</td>\n",
       "      <td>True</td>\n",
       "    </tr>\n",
       "    <tr>\n",
       "      <th>7078</th>\n",
       "      <td>2021-06-29 20:00:15</td>\n",
       "      <td>oag1qt</td>\n",
       "      <td>OPINION_IS_UNPOPULAR</td>\n",
       "      <td>https://www.reddit.com/r/wallstreetbets/commen...</td>\n",
       "      <td>What Are Your Moves Tomorrow, June 30, 2021</td>\n",
       "      <td>Your daily trading discussion thread. Please k...</td>\n",
       "      <td>True</td>\n",
       "    </tr>\n",
       "  </tbody>\n",
       "</table>\n",
       "<p>7079 rows × 7 columns</p>\n",
       "</div>"
      ],
      "text/plain": [
       "                    date      id                author  \\\n",
       "0    2017-08-26 10:46:14  6w4wra         WallStreetBot   \n",
       "1    2017-08-27 05:06:32  6waga2                bawse1   \n",
       "2    2017-09-14 12:30:12  701we2       SIThereAndThere   \n",
       "3    2017-09-20 03:53:30  718jpp                jartek   \n",
       "4    2017-09-23 18:12:47  71zw49       SIThereAndThere   \n",
       "...                  ...     ...                   ...   \n",
       "7074 2021-06-28 20:00:15  o9s4kb  OPINION_IS_UNPOPULAR   \n",
       "7075 2021-06-29 10:00:14  oa56ol  OPINION_IS_UNPOPULAR   \n",
       "7076 2021-06-29 10:00:49  oa570r             VisualMod   \n",
       "7077 2021-06-29 12:02:49  oa6vbq             VisualMod   \n",
       "7078 2021-06-29 20:00:15  oag1qt  OPINION_IS_UNPOPULAR   \n",
       "\n",
       "                                                    url  \\\n",
       "0     https://www.reddit.com/r/wallstreetbets/commen...   \n",
       "1                        http://i.imgur.com/9njpbaw.png   \n",
       "2     https://www.reddit.com/r/wallstreetbets/commen...   \n",
       "3     https://www.reddit.com/r/wallstreetbets/commen...   \n",
       "4     https://www.reddit.com/r/wallstreetbets/commen...   \n",
       "...                                                 ...   \n",
       "7074  https://www.reddit.com/r/wallstreetbets/commen...   \n",
       "7075  https://www.reddit.com/r/wallstreetbets/commen...   \n",
       "7076  https://www.reddit.com/r/wallstreetbets/commen...   \n",
       "7077  https://www.reddit.com/r/wallstreetbets/commen...   \n",
       "7078  https://www.reddit.com/r/wallstreetbets/commen...   \n",
       "\n",
       "                                                  title  \\\n",
       "0                           New WSB Merch NOW Available   \n",
       "1                                              /u/SUNEQ   \n",
       "2     J.P. Morgan Early Look at the Market – Thurs 9...   \n",
       "3                  Alright WSB, Mexico needs your help.   \n",
       "4     Goldman Sachs Dump: **PLEASE INVERSE THESE DOC...   \n",
       "...                                                 ...   \n",
       "7074        What Are Your Moves Tomorrow, June 29, 2021   \n",
       "7075          Daily Discussion Thread for June 29, 2021   \n",
       "7076  Daily Popular Tickers Thread for June 29, 2021...   \n",
       "7077  Daily Popular Tickers Thread for June 29, 2021...   \n",
       "7078        What Are Your Moves Tomorrow, June 30, 2021   \n",
       "\n",
       "                                               selftext  stickied  \n",
       "0     To commemorate current events.  \\n\\n   Mayweat...      True  \n",
       "1                                                            True  \n",
       "2     J.P. Morgan Early Look at the Market – Thurs 9...      True  \n",
       "3     The Greater Mexico City Metropolitan Area was ...      True  \n",
       "4     Some shit from GS might be helpful to a few pe...      True  \n",
       "...                                                 ...       ...  \n",
       "7074  Your daily trading discussion thread. Please k...      True  \n",
       "7075  Your daily trading discussion thread. Please k...      True  \n",
       "7076  \\nYour daily hype thread. Please keep the shit...      True  \n",
       "7077  \\nYour daily hype thread. Please keep the shit...      True  \n",
       "7078  Your daily trading discussion thread. Please k...      True  \n",
       "\n",
       "[7079 rows x 7 columns]"
      ]
     },
     "execution_count": 13,
     "metadata": {},
     "output_type": "execute_result"
    }
   ],
   "source": [
    "stickied_df"
   ]
  },
  {
   "cell_type": "markdown",
   "id": "9ae3661e",
   "metadata": {
    "deletable": false,
    "editable": false,
    "run_control": {
     "frozen": true
    }
   },
   "source": [
    "### Cleanup all submissions and find missing dates"
   ]
  },
  {
   "cell_type": "code",
   "execution_count": null,
   "id": "e9ccb5e0",
   "metadata": {
    "ExecuteTime": {
     "end_time": "2021-08-26T06:49:37.590019Z",
     "start_time": "2021-08-26T06:49:31.186Z"
    },
    "scrolled": true
   },
   "outputs": [],
   "source": [
    "all_submissions_combined[\"date\"] = pd.to_datetime(all_submissions_combined[\"created_utc\"], unit=\"s\")\n",
    "all_submissions_combined = all_submissions_combined[stickied_df.columns.tolist()]\n",
    "submissions_df = pd.concat([stickied_df, all_submissions_combined])\n",
    "submissions_df = submissions_df.drop_duplicates()"
   ]
  },
  {
   "cell_type": "code",
   "execution_count": null,
   "id": "004918ee",
   "metadata": {
    "ExecuteTime": {
     "end_time": "2021-08-26T06:49:37.591030Z",
     "start_time": "2021-08-26T06:49:31.188Z"
    },
    "scrolled": false
   },
   "outputs": [],
   "source": [
    "fig, ax = plt.subplots(figsize=(20, 10))\n",
    "ax = submissions_df.groupby(submissions_df[\"date\"].dt.date).apply(lambda x: x[\"id\"].nunique()).plot(ax=ax)\n",
    "ax = ax.vlines(x=dates_absent, ymin=24, ymax=25, colors='red',  lw=1, label='vline_multiple')"
   ]
  },
  {
   "cell_type": "markdown",
   "id": "3d49d98b",
   "metadata": {
    "deletable": false,
    "editable": false,
    "run_control": {
     "frozen": true
    }
   },
   "source": [
    "### Cut down wsb_comments_temp"
   ]
  },
  {
   "cell_type": "code",
   "execution_count": null,
   "id": "f322087c",
   "metadata": {
    "ExecuteTime": {
     "end_time": "2021-08-26T06:49:37.592020Z",
     "start_time": "2021-08-26T06:49:31.232Z"
    }
   },
   "outputs": [],
   "source": [
    "comments_columns = [\"created_utc\", \"retrieved_on\", \"id\", \"parent_id\", \"link_id\", \"author\", \"author_fullname\", \"submission_id\", \"subreddit_name_prefixed\", \"body\", \"permalink\"]"
   ]
  },
  {
   "cell_type": "markdown",
   "id": "323394aa",
   "metadata": {
    "deletable": false,
    "editable": false,
    "run_control": {
     "frozen": true
    }
   },
   "source": [
    "### Populate local database"
   ]
  },
  {
   "cell_type": "code",
   "execution_count": null,
   "id": "d079d557",
   "metadata": {},
   "outputs": [],
   "source": []
  }
 ],
 "metadata": {
  "kernelspec": {
   "display_name": "py38-env",
   "language": "python",
   "name": "py38-env"
  },
  "language_info": {
   "codemirror_mode": {
    "name": "ipython",
    "version": 3
   },
   "file_extension": ".py",
   "mimetype": "text/x-python",
   "name": "python",
   "nbconvert_exporter": "python",
   "pygments_lexer": "ipython3",
   "version": "3.8.10"
  },
  "latex_envs": {
   "LaTeX_envs_menu_present": true,
   "autoclose": true,
   "autocomplete": true,
   "bibliofile": "biblio.bib",
   "cite_by": "apalike",
   "current_citInitial": 1,
   "eqLabelWithNumbers": true,
   "eqNumInitial": 1,
   "hotkeys": {
    "equation": "Ctrl-E",
    "itemize": "Ctrl-I"
   },
   "labels_anchors": false,
   "latex_user_defs": false,
   "report_style_numbering": false,
   "user_envs_cfg": false
  },
  "toc": {
   "base_numbering": 1,
   "nav_menu": {},
   "number_sections": true,
   "sideBar": true,
   "skip_h1_title": false,
   "title_cell": "Table of Contents",
   "title_sidebar": "Contents",
   "toc_cell": false,
   "toc_position": {},
   "toc_section_display": true,
   "toc_window_display": false
  }
 },
 "nbformat": 4,
 "nbformat_minor": 5
}
