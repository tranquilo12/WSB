{
 "cells": [
  {
   "cell_type": "markdown",
   "id": "c0bbc48b",
   "metadata": {
    "deletable": false,
    "editable": false,
    "heading_collapsed": true
   },
   "source": [
    "### Imports"
   ]
  },
  {
   "cell_type": "code",
   "execution_count": null,
   "id": "112bb85d",
   "metadata": {
    "ExecuteTime": {
     "end_time": "2021-07-10T19:15:26.946352Z",
     "start_time": "2021-07-10T19:15:25.778230Z"
    },
    "hidden": true
   },
   "outputs": [],
   "source": [
    "from psycopg2.extras import execute_values, execute_batch\n",
    "from reddit_stuff import backfill_submissions\n",
    "from psycopg2.extras import Json\n",
    "from pmaw import PushshiftAPI\n",
    "from tqdm.auto import tqdm\n",
    "import pandas as pd\n",
    "import numpy as np \n",
    "from collections import Counter\n",
    "from  itertools import chain\n",
    "import datetime\n",
    "import psycopg2\n",
    "import requests\n",
    "import json\n",
    "import praw\n",
    "import time\n",
    "import re\n",
    "\n",
    "pmaw_api = PushshiftAPI()\n",
    "\n",
    "import matplotlib.pyplot as plt\n",
    "from matplotlib.dates import DateFormatter\n",
    "%matplotlib inline\n",
    "\n",
    "tqdm.pandas()"
   ]
  },
  {
   "cell_type": "markdown",
   "id": "b384a820",
   "metadata": {
    "deletable": false,
    "editable": false,
    "heading_collapsed": true
   },
   "source": [
    "### Functions"
   ]
  },
  {
   "cell_type": "code",
   "execution_count": null,
   "id": "61f5b271",
   "metadata": {
    "ExecuteTime": {
     "end_time": "2021-07-10T19:19:36.167122Z",
     "start_time": "2021-07-10T19:19:36.154123Z"
    },
    "hidden": true
   },
   "outputs": [],
   "source": [
    "if \"get_conn\" in locals():\n",
    "    del get_conn\n",
    "    \n",
    "def get_conn() -> psycopg2.connect:\n",
    "    return psycopg2.connect(\n",
    "        dbname=\"polygonio\", \n",
    "        port=\"5433\", \n",
    "        host=\"localhost\", \n",
    "        password='rogerthat', \n",
    "        user=\"postgres\"\n",
    "    )\n",
    "\n",
    "if \"get_all_wsb_comments_analytics\" in locals():\n",
    "    del get_all_wsb_comments_analytics\n",
    "    \n",
    "def get_all_wsb_comments_analytics(start_str:str) -> pd.DataFrame:\n",
    "    # start = datetime.datetime.strptime(start_str, \"%Y-%m-%d\").timestamp()\n",
    "    ### Check if these are present in the database, and how many comments do each of these submissions have?\n",
    "    with get_conn() as conn: \n",
    "        with conn.cursor() as cur: \n",
    "            cur.execute(f\"SELECT created_utc::date as date, submission_id, comment_id, tickers FROM wsb_comments_analytics WHERE created_utc::date >= '{start_str}'::date;\")\n",
    "            df = pd.DataFrame(cur.fetchall(), columns=[\"date\", \"submission_id\", \"comment_id\", \"tickers\"])\n",
    "    return df"
   ]
  },
  {
   "cell_type": "markdown",
   "id": "86c24fca",
   "metadata": {
    "deletable": false,
    "editable": false
   },
   "source": [
    "### Analyse"
   ]
  },
  {
   "cell_type": "code",
   "execution_count": null,
   "id": "53581ed5",
   "metadata": {
    "ExecuteTime": {
     "end_time": "2021-07-10T19:30:19.443049Z",
     "start_time": "2021-07-10T19:19:37.225297Z"
    }
   },
   "outputs": [],
   "source": [
    "df = get_all_wsb_comments_analytics('2021-01-01')\n",
    "df.tickers.fillna(value=np.NaN, inplace=True)"
   ]
  },
  {
   "cell_type": "code",
   "execution_count": null,
   "id": "f1c567eb",
   "metadata": {
    "ExecuteTime": {
     "end_time": "2021-07-10T19:41:27.921327Z",
     "start_time": "2021-07-10T19:41:27.901342Z"
    }
   },
   "outputs": [],
   "source": [
    "df.info()"
   ]
  },
  {
   "cell_type": "code",
   "execution_count": null,
   "id": "8086fad4",
   "metadata": {
    "ExecuteTime": {
     "end_time": "2021-07-10T21:01:11.828037Z",
     "start_time": "2021-07-10T21:01:10.430037Z"
    }
   },
   "outputs": [],
   "source": [
    "df2 = pd.DataFrame(df.loc[~pd.isna(df[\"tickers\"]), ].groupby([\"submission_id\"])[\"tickers\"], columns=[\"submission_id\", \"tickers_mentioned\"])\n",
    "df2.loc[:, \"tickers_mentioned\"] = df2[\"tickers_mentioned\"].apply(lambda x: list(np.ravel(x)))\n",
    "df2.loc[:, \"tickers_mentioned\"] = df2[\"tickers_mentioned\"].apply(lambda x: list(chain.from_iterable(x) ))\n",
    "df2[\"tickers_count\"] = df2[\"tickers_mentioned\"].progress_apply(lambda x: dict(Counter(chain(x))) if len(x) > 1 else dict(Counter(chain(*[x]))))\n",
    "df2 = df2.drop(columns=[\"tickers_mentioned\"])"
   ]
  },
  {
   "cell_type": "code",
   "execution_count": null,
   "id": "44b5083d",
   "metadata": {
    "ExecuteTime": {
     "end_time": "2021-07-10T21:02:40.072804Z",
     "start_time": "2021-07-10T21:02:32.092812Z"
    }
   },
   "outputs": [],
   "source": [
    "final_df = pd.merge(left=df2, right=df[[\"submission_id\", \"date\"]], left_on=\"submission_id\", right_on=\"submission_id\", how=\"inner\")\n",
    "final_df = final_df.sort_values(by=\"date\")\n",
    "final_df = final_df.drop_duplicates(subset=[\"submission_id\"])\n",
    "final_df = final_df.reset_index(drop=True)"
   ]
  },
  {
   "cell_type": "code",
   "execution_count": null,
   "id": "6f3cc939",
   "metadata": {
    "ExecuteTime": {
     "end_time": "2021-07-10T21:13:29.906165Z",
     "start_time": "2021-07-10T21:13:28.164170Z"
    }
   },
   "outputs": [],
   "source": [
    "final_df2_list = []\n",
    "for sub_id in tqdm(final_df.submission_id.unique()): \n",
    "    date, tickers_count = final_df.loc[final_df[\"submission_id\"] == sub_id, [\"date\", \"tickers_count\"]].values.tolist()[0]\n",
    "    tickers_count = dict(sorted(tickers_count.items(), key=lambda item: item[1]))\n",
    "    final_df2_list.append({\"date\": date, \"submission_id\": sub_id, \"tickers_count\": tickers_count})\n",
    "\n",
    "final_df2 = pd.DataFrame.from_dict(final_df2_list)\n",
    "final_df2.head()"
   ]
  },
  {
   "cell_type": "code",
   "execution_count": null,
   "id": "f59447fc",
   "metadata": {
    "ExecuteTime": {
     "end_time": "2021-07-10T21:15:23.604160Z",
     "start_time": "2021-07-10T21:15:20.098187Z"
    }
   },
   "outputs": [],
   "source": [
    "### Track a stock like gme across dates\n",
    "ticker = \"AMC\"\n",
    "final_df3 = pd.DataFrame(final_df2.groupby([\"date\"])[\"tickers_count\"].apply(lambda x: pd.DataFrame(list(x)).sum() ))\n",
    "final_df3 = final_df3.reset_index()\n",
    "final_df3.columns = [\"date\", \"ticker\", \"ticker_count\"]\n",
    "final_df3 = final_df3.set_index(\"date\")\n",
    "final_df3[final_df3[\"ticker\"] == ticker.lower()].plot()"
   ]
  }
 ],
 "metadata": {
  "kernelspec": {
   "display_name": "py38-env",
   "language": "python",
   "name": "py38-env"
  },
  "language_info": {
   "codemirror_mode": {
    "name": "ipython",
    "version": 3
   },
   "file_extension": ".py",
   "mimetype": "text/x-python",
   "name": "python",
   "nbconvert_exporter": "python",
   "pygments_lexer": "ipython3",
   "version": "3.8.10"
  },
  "latex_envs": {
   "LaTeX_envs_menu_present": true,
   "autoclose": true,
   "autocomplete": true,
   "bibliofile": "biblio.bib",
   "cite_by": "apalike",
   "current_citInitial": 1,
   "eqLabelWithNumbers": true,
   "eqNumInitial": 1,
   "hotkeys": {
    "equation": "Ctrl-E",
    "itemize": "Ctrl-I"
   },
   "labels_anchors": false,
   "latex_user_defs": false,
   "report_style_numbering": false,
   "user_envs_cfg": false
  },
  "toc": {
   "base_numbering": 1,
   "nav_menu": {},
   "number_sections": true,
   "sideBar": true,
   "skip_h1_title": false,
   "title_cell": "Table of Contents",
   "title_sidebar": "Contents",
   "toc_cell": false,
   "toc_position": {},
   "toc_section_display": true,
   "toc_window_display": false
  }
 },
 "nbformat": 4,
 "nbformat_minor": 5
}
